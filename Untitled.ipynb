{
 "cells": [
  {
   "cell_type": "code",
   "execution_count": 97,
   "metadata": {},
   "outputs": [],
   "source": [
    "import bz2   \n",
    "import re\n",
    "import sys\n",
    "import os\n",
    "import numpy as np\n",
    "from bz2 import decompress"
   ]
  },
  {
   "cell_type": "code",
   "execution_count": 98,
   "metadata": {},
   "outputs": [],
   "source": [
    "pattern = re.compile(r'location_001_ivdata_[0-9][0-9][0-9].txt.bz2')\n",
    "path = \"D:\\Idean\\Smart meter\\location_001_dataset_001\"\n"
   ]
  },
  {
   "cell_type": "code",
   "execution_count": 102,
   "metadata": {},
   "outputs": [],
   "source": [
    "file_list=[]\n",
    "M = []\n",
    "for(dirpath,dirnames,files)in os.walk(path):\n",
    "    file_list=[filename for filename in files if pattern.match(filename)]\n",
    "    M.append(file_list)\n",
    "    \n",
    "    \n",
    "    "
   ]
  },
  {
   "cell_type": "code",
   "execution_count": 112,
   "metadata": {},
   "outputs": [
    {
     "name": "stdout",
     "output_type": "stream",
     "text": [
      "location_001_ivdata_002.txt.bz2\n"
     ]
    }
   ],
   "source": [
    "print(M[0][1])"
   ]
  },
  {
   "cell_type": "code",
   "execution_count": 119,
   "metadata": {},
   "outputs": [],
   "source": [
    "filepath=path+\"\\\\\"+M[0][1]\n",
    "zipfile = bz2.BZ2File(filepath)\n",
    "data = zipfile.read() "
   ]
  },
  {
   "cell_type": "code",
   "execution_count": 39,
   "metadata": {},
   "outputs": [],
   "source": []
  },
  {
   "cell_type": "code",
   "execution_count": 2,
   "metadata": {},
   "outputs": [],
   "source": [
    "import csv\n",
    "import numpy as np\n",
    "import matplotlib.pyplot as plt\n",
    "\n",
    "#file info\n",
    "filepath=\"D:\\Idean\\Smart meter\\location_001_dataset_001\\location_001_ivdata_001.txt\"\n",
    "with open(filepath,'rt') as fileobj:\n",
    "    np.genfromtxt('filepath,delimiter=',')\n",
    "#     cin = csv.reader(fileobj)\n",
    "#     datas = [row for row in cin]\n",
    "\n"
   ]
  },
  {
   "cell_type": "code",
   "execution_count": 97,
   "metadata": {},
   "outputs": [
    {
     "name": "stdout",
     "output_type": "stream",
     "text": [
      "['X_Value', 'Current A', 'Current B', 'VoltageA', 'Comment']\n"
     ]
    }
   ],
   "source": [
    "#data stream start at line 22(this line is index)\n",
    "\n",
    "print(datas[22])"
   ]
  },
  {
   "cell_type": "code",
   "execution_count": 34,
   "metadata": {},
   "outputs": [
    {
     "name": "stdout",
     "output_type": "stream",
     "text": [
      "[['0.000750', '1.230355', '-1.569521', '-108.787669']]\n"
     ]
    }
   ],
   "source": [
    "count=22\n",
    "print(datas[22:36:10][1:10][0:4])"
   ]
  },
  {
   "cell_type": "code",
   "execution_count": 25,
   "metadata": {},
   "outputs": [
    {
     "data": {
      "image/png": "[encoded data removed]",
      "text/plain": [
       "<matplotlib.figure.Figure at 0x1ed7316ee48>"
      ]
     },
     "metadata": {},
     "output_type": "display_data"
    }
   ],
   "source": [
    "plt.scatter(datas[23][1:10:1][0],datas[23][1:10:1][1])\n",
    "plt.show()"
   ]
  },
  {
   "cell_type": "code",
   "execution_count": 36,
   "metadata": {},
   "outputs": [
    {
     "ename": "AttributeError",
     "evalue": "'list' object has no attribute 'shape'",
     "output_type": "error",
     "traceback": [
      "\u001b[1;31m---------------------------------------------------------------------------\u001b[0m",
      "\u001b[1;31mAttributeError\u001b[0m                            Traceback (most recent call last)",
      "\u001b[1;32m<ipython-input-36-c2427e660683>\u001b[0m in \u001b[0;36m<module>\u001b[1;34m()\u001b[0m\n\u001b[1;32m----> 1\u001b[1;33m \u001b[0mdatas\u001b[0m\u001b[1;33m.\u001b[0m\u001b[0mshape\u001b[0m\u001b[1;33m\u001b[0m\u001b[0m\n\u001b[0m",
      "\u001b[1;31mAttributeError\u001b[0m: 'list' object has no attribute 'shape'"
     ]
    }
   ],
   "source": [
    "datas.shape"
   ]
  },
  {
   "cell_type": "code",
   "execution_count": 3,
   "metadata": {},
   "outputs": [
    {
     "data": {
      "text/plain": [
       "<matplotlib.figure.Figure at 0x2d2f65d19e8>"
      ]
     },
     "metadata": {},
     "output_type": "display_data"
    }
   ],
   "source": [
    "import csv\n",
    "import numpy as np\n",
    "import matplotlib.pyplot as plt\n",
    "#file info\n",
    "filepath=\"D:\\Idean\\Smart meter\\location_001_dataset_001\\location_001_ivdata_001.txt\"\n",
    "with open(filepath,'rt') as fileobj:\n",
    "    cin = csv.reader(fileobj)\n",
    "    datas = [row for row in cin]\n",
    "\n",
    "count=330000 #as least 23\n",
    "rl=30000\n",
    "\n",
    "X_value = np.arange(rl,dtype = np.float)\n",
    "Phase_A = np.arange(rl,dtype = np.float)\n",
    "for i in range(rl):\n",
    "    X_value[i]=datas[i+count][0]\n",
    "    Phase_A[i]=datas[i+count][1]\n",
    "\n",
    "\n",
    "plt.scatter(X_value,Phase_A)\n",
    "plt.show()"
   ]
  },
  {
   "cell_type": "code",
   "execution_count": null,
   "metadata": {},
   "outputs": [],
   "source": []
  }
 ],
 "metadata": {
  "kernelspec": {
   "display_name": "Python 3",
   "language": "python",
   "name": "python3"
  },
  "language_info": {
   "codemirror_mode": {
    "name": "ipython",
    "version": 3
   },
   "file_extension": ".py",
   "mimetype": "text/x-python",
   "name": "python",
   "nbconvert_exporter": "python",
   "pygments_lexer": "ipython3",
   "version": "3.6.4"
  }
 },
 "nbformat": 4,
 "nbformat_minor": 2
}
