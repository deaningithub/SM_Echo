{
 "cells": [
  {
   "cell_type": "code",
   "execution_count": 97,
   "metadata": {},
   "outputs": [],
   "source": [
    "import bz2   \n",
    "import re\n",
    "import sys\n",
    "import os\n",
    "import numpy as np\n",
    "from bz2 import decompress"
   ]
  },
  {
   "cell_type": "code",
   "execution_count": 98,
   "metadata": {},
   "outputs": [],
   "source": [
    "pattern = re.compile(r'location_001_ivdata_[0-9][0-9][0-9].txt.bz2')\n",
    "path = \"D:\\Idean\\Smart meter\\location_001_dataset_001\"\n"
   ]
  },
  {
   "cell_type": "code",
   "execution_count": 102,
   "metadata": {},
   "outputs": [],
   "source": [
    "file_list=[]\n",
    "M = []\n",
    "for(dirpath,dirnames,files)in os.walk(path):\n",
    "    file_list=[filename for filename in files if pattern.match(filename)]\n",
    "    M.append(file_list)\n",
    "    \n",
    "    \n",
    "    "
   ]
  },
  {
   "cell_type": "code",
   "execution_count": 112,
   "metadata": {},
   "outputs": [
    {
     "name": "stdout",
     "output_type": "stream",
     "text": [
      "location_001_ivdata_002.txt.bz2\n"
     ]
    }
   ],
   "source": [
    "print(M[0][1])"
   ]
  },
  {
   "cell_type": "code",
   "execution_count": 119,
   "metadata": {},
   "outputs": [],
   "source": [
    "filepath=path+\"\\\\\"+M[0][1]\n",
    "zipfile = bz2.BZ2File(filepath)\n",
    "data = zipfile.read() "
   ]
  },
  {
   "cell_type": "code",
   "execution_count": 39,
   "metadata": {},
   "outputs": [],
   "source": []
  },
  {
   "cell_type": "code",
   "execution_count": 80,
   "metadata": {},
   "outputs": [],
   "source": [
    "import csv\n",
    "\n",
    "#file info\n",
    "filepath=\"D:\\Idean\\Smart meter\\location_001_dataset_001\\location_001_ivdata_001.txt\"\n",
    "with open(filepath,'rt') as fileobj:\n",
    "    cin = csv.reader(fileobj)\n",
    "    datas = [row for row in cin]\n",
    "\n"
   ]
  },
  {
   "cell_type": "code",
   "execution_count": 97,
   "metadata": {},
   "outputs": [
    {
     "name": "stdout",
     "output_type": "stream",
     "text": [
      "['X_Value', 'Current A', 'Current B', 'VoltageA', 'Comment']\n"
     ]
    }
   ],
   "source": [
    "#data stream start at line 22(this line is index)\n",
    "\n",
    "print(datas[22])"
   ]
  },
  {
   "cell_type": "code",
   "execution_count": 99,
   "metadata": {},
   "outputs": [
    {
     "name": "stdout",
     "output_type": "stream",
     "text": [
      "['X_Value', 'Current A', 'Current B', 'VoltageA', 'Comment']\n",
      "['0.000000', '0.742134', '1.340304', '-149.180629']\n",
      "['8.333333E-5', '0.933177', '-1.443007', '-144.194623']\n",
      "['0.000167', '0.827042', '-0.915865', '-138.956161']\n",
      "['0.000250', '0.911950', '-0.726094', '-136.810285']\n",
      "['0.000333', '1.102993', '-1.000208', '-132.581647']\n",
      "['0.000417', '1.081766', '-1.569521', '-127.595641']\n",
      "['0.000500', '1.081766', '-1.632778', '-122.735863']\n",
      "['0.000583', '1.187901', '-1.569521', '-118.096984']\n",
      "['0.000667', '1.209128', '-1.527350', '-113.521219']\n"
     ]
    }
   ],
   "source": [
    "count=22\n",
    "for i in range(10):\n",
    "    print(datas[i+count])"
   ]
  },
  {
   "cell_type": "code",
   "execution_count": null,
   "metadata": {},
   "outputs": [],
   "source": []
  },
  {
   "cell_type": "code",
   "execution_count": null,
   "metadata": {},
   "outputs": [],
   "source": []
  }
 ],
 "metadata": {
  "kernelspec": {
   "display_name": "Python 3",
   "language": "python",
   "name": "python3"
  },
  "language_info": {
   "codemirror_mode": {
    "name": "ipython",
    "version": 3
   },
   "file_extension": ".py",
   "mimetype": "text/x-python",
   "name": "python",
   "nbconvert_exporter": "python",
   "pygments_lexer": "ipython3",
   "version": "3.6.4"
  }
 },
 "nbformat": 4,
 "nbformat_minor": 2
}
